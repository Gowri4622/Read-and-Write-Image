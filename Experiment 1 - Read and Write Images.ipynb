{
 "cells": [
  {
   "cell_type": "code",
   "execution_count": null,
   "metadata": {},
   "outputs": [],
   "source": [
    "import cv2\n",
    "dog_image = cv2.imread('dog.jpg',1)\n",
    "cv2.imshow('Puppy',dog_image)\n",
    "cv2.waitKey(0)\n",
    "destroyAllWindows()"
   ]
  },
  {
   "cell_type": "code",
   "execution_count": null,
   "metadata": {},
   "outputs": [],
   "source": [
    "import cv2\n",
    "dog_image = cv2.imread('dog.jpg',1)\n",
    "cv2.imwrite('new1.jpg',dog_image)"
   ]
  },
  {
   "cell_type": "code",
   "execution_count": null,
   "metadata": {},
   "outputs": [],
   "source": [
    "import random\n",
    "for i in range(100):\n",
    "    for j in range(dog_image.shape[1]):\n",
    "        dog_image[i][j] = [random.randint(0,255),random.randint(0,255),random.randint(0,255)]\n",
    "cv2.imshow('Dog',dog_image)\n",
    "cv2.waitKey(0)\n",
    "destroyAllWindows()"
   ]
  },
  {
   "cell_type": "code",
   "execution_count": null,
   "metadata": {},
   "outputs": [],
   "source": [
    "import cv2\n",
    "dog_image = cv2.imread('dog.jpg',-1)\n",
    "tag = dog_image[300:400,300:400]\n",
    "dog_image[50:150,50:150] = tag\n",
    "cv2.imshow('Dog',dog_image)\n",
    "cv2.waitKey(0)\n",
    "destroyAllWindows()"
   ]
  }
 ],
 "metadata": {
  "kernelspec": {
   "display_name": "Python 3",
   "language": "python",
   "name": "python3"
  },
  "language_info": {
   "codemirror_mode": {
    "name": "ipython",
    "version": 3
   },
   "file_extension": ".py",
   "mimetype": "text/x-python",
   "name": "python",
   "nbconvert_exporter": "python",
   "pygments_lexer": "ipython3",
   "version": "3.8.5"
  }
 },
 "nbformat": 4,
 "nbformat_minor": 4
}
